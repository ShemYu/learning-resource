{
 "metadata": {
  "language_info": {
   "codemirror_mode": {
    "name": "ipython",
    "version": 3
   },
   "file_extension": ".py",
   "mimetype": "text/x-python",
   "name": "python",
   "nbconvert_exporter": "python",
   "pygments_lexer": "ipython3",
   "version": "3.8.5-final"
  },
  "orig_nbformat": 2,
  "kernelspec": {
   "name": "python3",
   "display_name": "Python 3",
   "language": "python"
  }
 },
 "nbformat": 4,
 "nbformat_minor": 2,
 "cells": [
  {
   "source": [
    "### `str.join([list_of_str])`   \n",
    "將 `str` 插入 input 的元件中間，   \n",
    "並回傳整併起來的字串"
   ],
   "cell_type": "markdown",
   "metadata": {}
  },
  {
   "cell_type": "code",
   "execution_count": 14,
   "metadata": {},
   "outputs": [
    {
     "output_type": "execute_result",
     "data": {
      "text/plain": [
       "'0,1,2,3,4,5,6,7,8,9'"
      ]
     },
     "metadata": {},
     "execution_count": 14
    }
   ],
   "source": [
    "anotation = \",\"\n",
    "anotation.join([str(i) for i in range(10)])"
   ]
  },
  {
   "source": [
    "### 以前的作法\n",
    "冗長，而且串接方式邏輯上不通順"
   ],
   "cell_type": "markdown",
   "metadata": {}
  },
  {
   "cell_type": "code",
   "execution_count": 12,
   "metadata": {},
   "outputs": [
    {
     "output_type": "execute_result",
     "data": {
      "text/plain": [
       "'0, 1, 2, 3, 4, 5, 6, 7, 8, 9, 10'"
      ]
     },
     "metadata": {},
     "execution_count": 12
    }
   ],
   "source": [
    "result = \"\" # 設定 result 是一個空字串\n",
    "for i in range(10): # i = 0, 1, 2, ..., 9\n",
    "    result = result + str(i) + \", \"\n",
    "result = result + \"10\"\n",
    "result"
   ]
  },
  {
   "source": [
    "### 現在的作法\n",
    "快速，邏輯上比較好理解"
   ],
   "cell_type": "markdown",
   "metadata": {}
  },
  {
   "cell_type": "code",
   "execution_count": 19,
   "metadata": {},
   "outputs": [
    {
     "output_type": "execute_result",
     "data": {
      "text/plain": [
       "'1, 2, 3, 4, 5, 6, 7, 8, 9, 10'"
      ]
     },
     "metadata": {},
     "execution_count": 19
    }
   ],
   "source": [
    "element_list = [] # 宣告空陣列\n",
    "for i in range(1, 11): # 1, 2, ..., 10, start=從哪開始\n",
    "    element_list.append(str(i)) # 把 i 塞進 element_list\n",
    "seperator = \", \" # 用 `, ` 來組合 element_list 當中的元件\n",
    "seperator.join(element_list)"
   ]
  },
  {
   "source": [
    "# 應用場景\n",
    "想呈現不同格式的日期    \n",
    "例如：   \n",
    "2021-01-01   \n",
    "2021,01,01   \n",
    "2021/01/01   \n",
    "2021 01 01   "
   ],
   "cell_type": "markdown",
   "metadata": {}
  },
  {
   "cell_type": "code",
   "execution_count": 22,
   "metadata": {},
   "outputs": [
    {
     "output_type": "stream",
     "name": "stdout",
     "text": [
      "2021-01-01\n2021,01,01\n2021/01/01\n2021 01 01\n"
     ]
    }
   ],
   "source": [
    "seperators = [\"-\", \",\", \"/\", \" \"] # 因為是多個，所以變數名稱多一個 s 也是 common practice\n",
    "for seperator in seperators: # 利用 for _ in list 可以依序取出 list 當中的資料\n",
    "    year = \"2021\"\n",
    "    month = \"01\"\n",
    "    day = \"01\"\n",
    "    date = [year, month, day]\n",
    "    result = seperator.join(date)\n",
    "    print(result)"
   ]
  },
  {
   "source": [
    "# 強行回到主題 HELLO WORLD"
   ],
   "cell_type": "markdown",
   "metadata": {}
  },
  {
   "cell_type": "code",
   "execution_count": 23,
   "metadata": {},
   "outputs": [
    {
     "output_type": "stream",
     "name": "stdout",
     "text": [
      "hello world\n"
     ]
    }
   ],
   "source": [
    "word_list = [\"hello\", \"world\"]\n",
    "print(\" \".join(word_list))"
   ]
  },
  {
   "cell_type": "code",
   "execution_count": null,
   "metadata": {},
   "outputs": [],
   "source": []
  }
 ]
}