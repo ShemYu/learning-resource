{
 "metadata": {
  "language_info": {
   "codemirror_mode": {
    "name": "ipython",
    "version": 3
   },
   "file_extension": ".py",
   "mimetype": "text/x-python",
   "name": "python",
   "nbconvert_exporter": "python",
   "pygments_lexer": "ipython3",
   "version": "3.7.4-final"
  },
  "orig_nbformat": 2,
  "kernelspec": {
   "name": "python3",
   "display_name": "Python 3"
  }
 },
 "nbformat": 4,
 "nbformat_minor": 2,
 "cells": [
  {
   "cell_type": "code",
   "execution_count": 8,
   "metadata": {},
   "outputs": [],
   "source": [
    "# test Decorator, input function\n",
    "\n",
    "def print_func_name(func):\n",
    "    def wrap():\n",
    "        print(func.__name__)\n",
    "    return wrap\n",
    "    \n",
    "@print_func_name\n",
    "def function_1():\n",
    "    a = 1\n"
   ]
  },
  {
   "cell_type": "code",
   "execution_count": 11,
   "metadata": {},
   "outputs": [
    {
     "output_type": "stream",
     "name": "stdout",
     "text": [
      "function_1\n"
     ]
    }
   ],
   "source": [
    "function_1()"
   ]
  },
  {
   "cell_type": "code",
   "execution_count": 12,
   "metadata": {},
   "outputs": [],
   "source": [
    "# test Decorator, input class\n",
    "\n",
    "def print_cls_name(cls):\n",
    "    def wrap():\n",
    "        print(cls.__name__)\n",
    "    return wrap\n",
    "\n",
    "@print_cls_name\n",
    "class class_1:\n",
    "    def __init__(self):\n",
    "        self.a = 1\n"
   ]
  },
  {
   "cell_type": "code",
   "execution_count": 13,
   "metadata": {},
   "outputs": [
    {
     "output_type": "stream",
     "name": "stdout",
     "text": [
      "class_1\n"
     ]
    }
   ],
   "source": [
    "class_1()"
   ]
  },
  {
   "cell_type": "code",
   "execution_count": 19,
   "metadata": {},
   "outputs": [
    {
     "output_type": "error",
     "ename": "SyntaxError",
     "evalue": "invalid syntax (<ipython-input-19-737e96787733>, line 10)",
     "traceback": [
      "\u001b[0;36m  File \u001b[0;32m\"<ipython-input-19-737e96787733>\"\u001b[0;36m, line \u001b[0;32m10\u001b[0m\n\u001b[0;31m    aisb\u001b[0m\n\u001b[0m       ^\u001b[0m\n\u001b[0;31mSyntaxError\u001b[0m\u001b[0;31m:\u001b[0m invalid syntax\n"
     ]
    }
   ],
   "source": [
    "# test Decorator, input variable\n",
    "\n",
    "def print_var_name(var):\n",
    "    def wrap():\n",
    "        print(var.__name__)\n",
    "    return wrap\n",
    "\n",
    "aisb = 1\n",
    "@print_var_name\n",
    "aisb"
   ]
  },
  {
   "cell_type": "code",
   "execution_count": null,
   "metadata": {},
   "outputs": [],
   "source": []
  }
 ]
}