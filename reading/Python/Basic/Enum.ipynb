{
 "metadata": {
  "language_info": {
   "codemirror_mode": {
    "name": "ipython",
    "version": 3
   },
   "file_extension": ".py",
   "mimetype": "text/x-python",
   "name": "python",
   "nbconvert_exporter": "python",
   "pygments_lexer": "ipython3",
   "version": "3.9.1-final"
  },
  "orig_nbformat": 2,
  "kernelspec": {
   "name": "python3",
   "display_name": "Python 3.9.1 64-bit ('uap': conda)",
   "metadata": {
    "interpreter": {
     "hash": "5b137cdaa85d94f5bb8a937fafc18250e815bb77e5329a665b644e0046044e61"
    }
   }
  }
 },
 "nbformat": 4,
 "nbformat_minor": 2,
 "cells": [
  {
   "cell_type": "code",
   "execution_count": 40,
   "metadata": {},
   "outputs": [],
   "source": [
    "from enum import Enum # Enum is std library of Python"
   ]
  },
  {
   "source": [
    "# 枚舉類型\n",
    "- 繼承 Enum 建立類別\n",
    "- Enum 會針對枚舉當中的成員，逐一初始化(`__init__`)\n",
    "- 枚舉當中的成員的 value 不得重複，否則會無法從 value 取回正確的成員名稱"
   ],
   "cell_type": "markdown",
   "metadata": {}
  },
  {
   "cell_type": "code",
   "execution_count": 41,
   "metadata": {},
   "outputs": [],
   "source": [
    "# 繼承 Enum 建立類別\n",
    "class Similarity1(Enum):\n",
    "    hamming_distance = (\"_hamming_distance\")\n",
    "    test = (\"_hamming_distance\")\n",
    "\n",
    "    def __init__(self, method_):\n",
    "        self.method = getattr(self, method_)\n",
    "\n",
    "    def _hamming_distance(self, x, y):\n",
    "        return x + y\n"
   ]
  },
  {
   "cell_type": "code",
   "execution_count": 42,
   "metadata": {},
   "outputs": [
    {
     "output_type": "execute_result",
     "data": {
      "text/plain": [
       "3"
      ]
     },
     "metadata": {},
     "execution_count": 42
    }
   ],
   "source": [
    "Similarity1.hamming_distance.method(1,2)"
   ]
  },
  {
   "cell_type": "code",
   "execution_count": 47,
   "metadata": {},
   "outputs": [
    {
     "output_type": "execute_result",
     "data": {
      "text/plain": [
       "'hamming_distance'"
      ]
     },
     "metadata": {},
     "execution_count": 47
    }
   ],
   "source": [
    "# 取回錯誤的 name\n",
    "Similarity1.test.name"
   ]
  },
  {
   "source": [
    "# 類別靜態方法\n",
    "- 撰寫起來較為快速直觀\n",
    "- 要使用下標取得成員需撰寫 `__getitem__` 類方法"
   ],
   "cell_type": "markdown",
   "metadata": {}
  },
  {
   "cell_type": "code",
   "execution_count": 48,
   "metadata": {},
   "outputs": [],
   "source": [
    "class Similarity2():\n",
    "    @staticmethod\n",
    "    def hamming_distance(x, y):\n",
    "        return x + y"
   ]
  },
  {
   "cell_type": "code",
   "execution_count": 49,
   "metadata": {},
   "outputs": [
    {
     "output_type": "execute_result",
     "data": {
      "text/plain": [
       "3"
      ]
     },
     "metadata": {},
     "execution_count": 49
    }
   ],
   "source": [
    "Similarity2.hamming_distance(1, 2)"
   ]
  },
  {
   "cell_type": "code",
   "execution_count": 50,
   "metadata": {},
   "outputs": [],
   "source": [
    "def if_this_is_a_function_need_to_swtich_case(some_condition=\"hamming_distance\"):\n",
    "    # Enum interface let it be subscriptable\n",
    "    result1 = Similarity1[some_condition].method(1, 2)\n",
    "    # Class staticmethod is not subscriptable\n",
    "    result2 = getattr(Similarity2, some_condition)(1, 2)\n",
    "    return result1, result2\n"
   ]
  },
  {
   "cell_type": "code",
   "execution_count": 51,
   "metadata": {},
   "outputs": [
    {
     "output_type": "execute_result",
     "data": {
      "text/plain": [
       "(3, 3)"
      ]
     },
     "metadata": {},
     "execution_count": 51
    }
   ],
   "source": [
    "if_this_is_a_function_need_to_swtich_case()"
   ]
  },
  {
   "cell_type": "code",
   "execution_count": 37,
   "metadata": {},
   "outputs": [
    {
     "output_type": "error",
     "ename": "TypeError",
     "evalue": "'type' object is not subscriptable",
     "traceback": [
      "\u001b[1;31m---------------------------------------------------------------------------\u001b[0m",
      "\u001b[1;31mTypeError\u001b[0m                                 Traceback (most recent call last)",
      "\u001b[1;32m<ipython-input-37-423e57695f10>\u001b[0m in \u001b[0;36m<module>\u001b[1;34m\u001b[0m\n\u001b[1;32m----> 1\u001b[1;33m \u001b[0mSimilarity2\u001b[0m\u001b[1;33m[\u001b[0m\u001b[1;34m\"hamming_distance\"\u001b[0m\u001b[1;33m]\u001b[0m\u001b[1;33m\u001b[0m\u001b[1;33m\u001b[0m\u001b[0m\n\u001b[0m",
      "\u001b[1;31mTypeError\u001b[0m: 'type' object is not subscriptable"
     ]
    }
   ],
   "source": [
    "Similarity2[\"hamming_distance\"]"
   ]
  },
  {
   "cell_type": "code",
   "execution_count": null,
   "metadata": {},
   "outputs": [],
   "source": []
  }
 ]
}